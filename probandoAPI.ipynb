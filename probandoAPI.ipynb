{
 "cells": [
  {
   "cell_type": "code",
   "execution_count": null,
   "id": "a4873597",
   "metadata": {},
   "outputs": [
    {
     "name": "stdout",
     "output_type": "stream",
     "text": [
      "Promtior offers a range of services including automating repetitive tasks, optimizing workflow processes, reducing manual errors in Fintech, automating credit approval, analyzing data, scoring risks in Bank AI, assisting call centers with Health AI, and processing legislation with Legal AI. They also provide solutions for Human Resources such as processing resumes and identifying top candidates.\n"
     ]
    }
   ],
   "source": [
    "from langserve import RemoteRunnable\n",
    "from langchain_core.messages import AIMessage, HumanMessage\n",
    "\n",
    "remote_runnable = RemoteRunnable(\"http://localhost:8000/\")\n",
    "\n",
    "chat_history = []\n",
    "\n",
    "event = await remote_runnable.ainvoke({\"input\": \"What services does Promtior offer?\", \"chat_history\": chat_history})\n",
    "print(event[\"answer\"])"
   ]
  },
  {
   "cell_type": "code",
   "execution_count": 24,
   "id": "5bd26f79",
   "metadata": {},
   "outputs": [],
   "source": [
    "chat_history.append(HumanMessage(\"What services does Promtior offer?\"))\n",
    "chat_history.append(AIMessage(event[\"answer\"]))"
   ]
  },
  {
   "cell_type": "code",
   "execution_count": 25,
   "id": "7b0cbb68",
   "metadata": {},
   "outputs": [
    {
     "name": "stdout",
     "output_type": "stream",
     "text": [
      "I don't know the exact date when Promtior was founded, but it is mentioned that the company was founded in May 2023, facing a context of transversal disruption caused by technological advancements such as ChatGPT's release in November 2022.\n"
     ]
    }
   ],
   "source": [
    "event = await remote_runnable.ainvoke({\"input\": \"When was the company founded?\", \"chat_history\": chat_history})\n",
    "print(event[\"answer\"])"
   ]
  }
 ],
 "metadata": {
  "kernelspec": {
   "display_name": "Python 3 (ipykernel)",
   "language": "python",
   "name": "python3"
  }
 },
 "nbformat": 4,
 "nbformat_minor": 5
}
