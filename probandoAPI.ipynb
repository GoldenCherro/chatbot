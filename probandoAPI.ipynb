{
 "cells": [
  {
   "cell_type": "code",
   "execution_count": 22,
   "id": "a4873597",
   "metadata": {},
   "outputs": [
    {
     "name": "stdout",
     "output_type": "stream",
     "text": [
      "Promtior offers various services including: management of technology, legal, finance, and human resources through AI solutions such as auto-generating and reviewing code, automating software testing, optimizing IT resources, quickly extracting key information from documents, generating draft contracts, predictive analysis of financial trends, automatically generating financial reports, detecting fraud and anomalies, streamlining credit approvals, transforming call centers, and more.\n"
     ]
    }
   ],
   "source": [
    "from langserve import RemoteRunnable\n",
    "from langchain_core.messages import AIMessage, HumanMessage\n",
    "\n",
    "remote_runnable = RemoteRunnable(\"http://localhost:8000/\")\n",
    "\n",
    "chat_history = []\n",
    "\n",
    "event = await remote_runnable.ainvoke({\"input\": \"What services does Promtior offer?\", \"chat_history\": chat_history})\n",
    "print(event[\"answer\"])"
   ]
  },
  {
   "cell_type": "code",
   "execution_count": 20,
   "id": "5bd26f79",
   "metadata": {},
   "outputs": [],
   "source": [
    "chat_history.append(HumanMessage(\"What services does Promtior offer?\"))\n",
    "chat_history.append(AIMessage(event[\"answer\"]))"
   ]
  },
  {
   "cell_type": "code",
   "execution_count": 21,
   "id": "7b0cbb68",
   "metadata": {},
   "outputs": [
    {
     "name": "stdout",
     "output_type": "stream",
     "text": [
      "Promtior was founded in May 2023.\n"
     ]
    }
   ],
   "source": [
    "event = await remote_runnable.ainvoke({\"input\": \"When was the company founded?\", \"chat_history\": chat_history})\n",
    "print(event[\"answer\"])"
   ]
  }
 ],
 "metadata": {
  "kernelspec": {
   "display_name": "Python 3 (ipykernel)",
   "language": "python",
   "name": "python3"
  },
  "language_info": {
   "codemirror_mode": {
    "name": "ipython",
    "version": 3
   },
   "file_extension": ".py",
   "mimetype": "text/x-python",
   "name": "python",
   "nbconvert_exporter": "python",
   "pygments_lexer": "ipython3",
   "version": "3.12.0"
  }
 },
 "nbformat": 4,
 "nbformat_minor": 5
}
